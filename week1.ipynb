{
 "cells": [
  {
   "execution_count": 16,
   "id": "c4297642",
   "metadata": {},
   "outputs": [
    {
     "name": "stdout",
     "output_type": "stream",
     "text": [
      "[[0, 0, 0], [0, 0, 0], [0, 0, 0], [0, 0, 0], [0, 0, 0]]\n"
     ]
    }
   ],
   "source": [
    "ans = []\n",
    "mid = []\n",
    "for i in [0,1,2]:\n",
    "    mid.append(0)\n",
    "for j in [0,1,2,3,4]:\n",
    "    ans.append(mid)\n",
    "print(ans)"
   ]
  },
  {
   "cell_type": "code",
   "execution_count": 6,
   "id": "91e68a30",
   "metadata": {},
   "outputs": [
    {
     "name": "stdout",
     "output_type": "stream",
     "text": [
      "{1: 1, 2: 4, 3: 9, 4: 16, 5: 25, 6: 36, 7: 49, 8: 64}\n"
     ]
    }
   ],
   "source": [
    "def dic(x):\n",
    "    list_1 = []\n",
    "    list_2 = []\n",
    "    ans = {}\n",
    "    i = 1 \n",
    "    while i <= x :\n",
    "        a = i*i\n",
    "        list_1.append(a)\n",
    "        list_2.append(i)\n",
    "        i += 1\n",
    "    for num , res in enumerate (list_2):\n",
    "        ans[res]= list_1[num]\n",
    "    print(ans)\n",
    "dic(8)"
   ]
  },
  {
   "cell_type": "code",
   "execution_count": 27,
   "id": "c7dbad47",
   "metadata": {},
   "outputs": [],
   "source": [
    "def test(i,m,n):\n",
    "    ans = []\n",
    "    mid = []\n",
    "    for c in range(m):\n",
    "        mid.append(i)\n",
    "        c += 1\n",
    "    for j in range(n):\n",
    "        ans.append(mid)\n",
    "        j += 1\n",
    "    print(ans)\n",
    "#i = int(input('i'))\n",
    "#m = int(input('m'))\n",
    "#n = int(input('n'))\n",
    "#test(i,m,n)"
   ]
  },
  {
   "cell_type": "code",
   "execution_count": 28,
   "id": "007fc61f",
   "metadata": {},
   "outputs": [
    {
     "name": "stdout",
     "output_type": "stream",
     "text": [
      "[[3, 3, 3, 3], [3, 3, 3, 3], [3, 3, 3, 3], [3, 3, 3, 3], [3, 3, 3, 3]]\n"
     ]
    }
   ],
   "source": [
    "test(3,4,5)"
   ]
  },
  {
   "cell_type": "code",
   "execution_count": 32,
   "id": "2f692131",
   "metadata": {},
   "outputs": [],
   "source": [
    "def fib(n):\n",
    "    if n == 1 :\n",
    "        return 1\n",
    "    if n == 2:\n",
    "        return 1\n",
    "    return fib(n-1)+fib(n-2)"
   ]
  },
  {
   "cell_type": "code",
   "execution_count": 33,
   "id": "8a904441",
   "metadata": {},
   "outputs": [
    {
     "data": {
      "text/plain": [
       "987"
      ]
     },
     "execution_count": 33,
     "metadata": {},
     "output_type": "execute_result"
    }
   ],
   "source": [
    "fib(16)"
   ]
  },
  {
   "cell_type": "code",
   "execution_count": 34,
   "id": "1745ecb5",
   "metadata": {},
   "outputs": [],
   "source": [
    "#优化：记录前一个值避免重复运算，比如字典"
   ]
  },
  {
   "cell_type": "code",
   "execution_count": null,
   "id": "74c486d6",
   "metadata": {},
   "outputs": [],
   "source": []
  }
 ],
 "metadata": {
  "kernelspec": {
   "display_name": "Python 3",
   "language": "python",
   "name": "python3"
  },
  "language_info": {
   "codemirror_mode": {
    "name": "ipython",
    "version": 3
   },
   "file_extension": ".py",
   "mimetype": "text/x-python",
   "name": "python",
   "nbconvert_exporter": "python",
   "pygments_lexer": "ipython3",
   "version": "3.8.8"
  }
 },
 "nbformat": 4,
 "nbformat_minor": 5
}
